{
 "cells": [
  {
   "cell_type": "code",
   "execution_count": 1,
   "id": "c4eddd99-880f-41c9-a0e6-bf8e8a3281f5",
   "metadata": {},
   "outputs": [],
   "source": [
    "# Q1. You are writing code for a company. The requirement of the company is that you create a python \n",
    "# function that will check whether the password entered by the user is correct or not. The function should \n",
    "# take the password as input and return the string “Valid Password” if the entered password follows the \n",
    "# below-given password guidelines else it should return “Invalid Password”.\n",
    "\n",
    "\n",
    "# Note: 1. The Password should contain at least two uppercase letters and at least two lowercase letters.\n",
    "\n",
    "# 2. The Password should contain at least a number and three special characters.\n",
    "\n",
    "# 3. The length of the password should be 10 characters long."
   ]
  },
  {
   "cell_type": "code",
   "execution_count": 24,
   "id": "740fecf3-1609-4489-a3e8-ed8b4a19d5bc",
   "metadata": {},
   "outputs": [
    {
     "name": "stdin",
     "output_type": "stream",
     "text": [
      "Enter a password:- btLthal\n"
     ]
    }
   ],
   "source": [
    "paasword =input(\"Enter a password:-\")"
   ]
  },
  {
   "cell_type": "code",
   "execution_count": 31,
   "id": "a159e16f-cd36-4e9f-96fc-ab300af0e98d",
   "metadata": {},
   "outputs": [],
   "source": [
    "def check_password():\n",
    "# Check length of password\n",
    "    if len(password) != 10:\n",
    "        return \"Invalid Password\"\n",
    "\n",
    "# Check for uppercase and lowercase letters\n",
    "    if sum(1 for c in password if c.isupper()) < 2 or sum(1 for c in password if c.islower()) < 2:\n",
    "        return \"Invalid Password\"\n",
    "\n",
    "# Check for numbers and special characters\n",
    "    if re.search(r\"\\d\", password) is None or len(re.findall(r\"[^A-Za-z0-9]\", password)) < 3:\n",
    "        return \"Invalid Password\"\n",
    "\n",
    "# If all criteria are satisfied, return \"Valid Password\"\n",
    "        return \"Valid Password\""
   ]
  },
  {
   "cell_type": "code",
   "execution_count": null,
   "id": "21a7ad35-503f-421b-a73c-e8df6d1a8a30",
   "metadata": {},
   "outputs": [],
   "source": []
  },
  {
   "cell_type": "code",
   "execution_count": 32,
   "id": "fc10e835-371b-4a15-b3e6-f0d497171b0e",
   "metadata": {},
   "outputs": [],
   "source": [
    "s=\"Ram1,2,3\""
   ]
  },
  {
   "cell_type": "code",
   "execution_count": 26,
   "id": "d4535e19-f9fa-4836-8337-49a36f3dfff8",
   "metadata": {},
   "outputs": [],
   "source": [
    "check_str = list(map(lambda s: s[0] if type(s)==str else False, s))"
   ]
  },
  {
   "cell_type": "code",
   "execution_count": 27,
   "id": "733bca53-79ee-4eed-b1c5-9b365368f930",
   "metadata": {},
   "outputs": [
    {
     "name": "stdout",
     "output_type": "stream",
     "text": [
      "['R', 'a', 'm', '1', ',', '2', ',', '3']\n"
     ]
    }
   ],
   "source": [
    "print(check_str)"
   ]
  },
  {
   "cell_type": "code",
   "execution_count": 28,
   "id": "58c8813b-af2a-4f82-afe7-092243de7dc4",
   "metadata": {},
   "outputs": [],
   "source": [
    "#Find the squares of numbers from 1 to 10"
   ]
  },
  {
   "cell_type": "code",
   "execution_count": 39,
   "id": "4f788a07-0620-43ae-81a4-d36e8ff39dc2",
   "metadata": {},
   "outputs": [],
   "source": [
    "s= list(range(1,10))"
   ]
  },
  {
   "cell_type": "code",
   "execution_count": 41,
   "id": "a9432887-3db0-4340-bbce-4c8c0c78e896",
   "metadata": {},
   "outputs": [],
   "source": [
    "squ = list(map(lambda i:i**2, s))"
   ]
  },
  {
   "cell_type": "code",
   "execution_count": 42,
   "id": "40b2fc02-f888-44de-b3ff-d00abfeb7b8f",
   "metadata": {},
   "outputs": [
    {
     "name": "stdout",
     "output_type": "stream",
     "text": [
      "[1, 4, 9, 16, 25, 36, 49, 64, 81]\n"
     ]
    }
   ],
   "source": [
    "print(squ)"
   ]
  },
  {
   "cell_type": "code",
   "execution_count": 43,
   "id": "ed5202f9-d7fa-4bf8-9ffe-fd2d3fb1fd8a",
   "metadata": {},
   "outputs": [],
   "source": [
    "# Find the cube root of numbers from 1 to 10"
   ]
  },
  {
   "cell_type": "code",
   "execution_count": 46,
   "id": "fafa283e-e3a7-47e3-aa0d-b83b7a6468b8",
   "metadata": {},
   "outputs": [],
   "source": [
    "a = list(range(1,10))"
   ]
  },
  {
   "cell_type": "code",
   "execution_count": 48,
   "id": "83c87ea5-0591-4bac-bd98-5cefb88d406b",
   "metadata": {},
   "outputs": [],
   "source": [
    "cube =tuple(filter(lambda z:z**3, a))"
   ]
  },
  {
   "cell_type": "code",
   "execution_count": 49,
   "id": "8b6dc914-a9a1-405e-b5ce-99254a3d5b11",
   "metadata": {},
   "outputs": [
    {
     "name": "stdout",
     "output_type": "stream",
     "text": [
      "(1, 2, 3, 4, 5, 6, 7, 8, 9)\n"
     ]
    }
   ],
   "source": [
    "print(cube)"
   ]
  },
  {
   "cell_type": "code",
   "execution_count": 50,
   "id": "f5756fc6-b96c-4db5-b37b-a21144f97bcd",
   "metadata": {},
   "outputs": [],
   "source": [
    "# Check if a given number is even"
   ]
  },
  {
   "cell_type": "code",
   "execution_count": 72,
   "id": "0f5a3398-91eb-40da-93f3-82b4b5283444",
   "metadata": {},
   "outputs": [
    {
     "name": "stdin",
     "output_type": "stream",
     "text": [
      "Enter a number:- 21\n"
     ]
    }
   ],
   "source": [
    "n = int(input(\"Enter a number:-\"))"
   ]
  },
  {
   "cell_type": "code",
   "execution_count": 73,
   "id": "09133356-b8d6-43ad-8dc8-3ae72818ab31",
   "metadata": {},
   "outputs": [],
   "source": [
    "even = lambda n: True if (n%2==0) else False"
   ]
  },
  {
   "cell_type": "code",
   "execution_count": 74,
   "id": "a73bea9a-ed01-4046-9651-3a273e7a1064",
   "metadata": {},
   "outputs": [
    {
     "name": "stdout",
     "output_type": "stream",
     "text": [
      "False\n"
     ]
    }
   ],
   "source": [
    "print(even(n))"
   ]
  },
  {
   "cell_type": "code",
   "execution_count": 75,
   "id": "81762e8c-09a5-4554-bc36-392eb39452cb",
   "metadata": {},
   "outputs": [],
   "source": [
    "# Filter odd numbers from the given list.\n",
    "# [1,2,3,4,5,6,7,8,9,10]"
   ]
  },
  {
   "cell_type": "code",
   "execution_count": 76,
   "id": "73d8fbf8-6f4d-4dd6-b7f2-68200c66f835",
   "metadata": {},
   "outputs": [],
   "source": [
    "l = [1,2,3,4,5,6,7,8,9,10]"
   ]
  },
  {
   "cell_type": "code",
   "execution_count": 81,
   "id": "733ae386-492d-40b9-b04f-df8940cb6c11",
   "metadata": {},
   "outputs": [],
   "source": [
    "odd = list(filter(lambda l: l%2==1, l))"
   ]
  },
  {
   "cell_type": "code",
   "execution_count": 82,
   "id": "44d4753b-65e2-42d6-8b78-5a27d7e1a8e1",
   "metadata": {},
   "outputs": [
    {
     "name": "stdout",
     "output_type": "stream",
     "text": [
      "[1, 3, 5, 7, 9]\n"
     ]
    }
   ],
   "source": [
    "print(odd)"
   ]
  },
  {
   "cell_type": "code",
   "execution_count": 83,
   "id": "d2d93d4d-d065-41e1-8fe2-389e5c3c6cab",
   "metadata": {},
   "outputs": [],
   "source": [
    "# Sort a list of integers into positive and negative integers lists.\n",
    "#  [1,2,3,4,5,6,-1,-2,-3,-4,-5,0]"
   ]
  },
  {
   "cell_type": "code",
   "execution_count": 87,
   "id": "09dcb24a-ac58-47ce-8d36-44e89ef89c9e",
   "metadata": {},
   "outputs": [],
   "source": [
    "l = [1,2,3,4,5,6,7,7,8,9]"
   ]
  },
  {
   "cell_type": "code",
   "execution_count": 90,
   "id": "0567139a-cda9-4bab-b186-12713e7c30e0",
   "metadata": {},
   "outputs": [
    {
     "data": {
      "text/plain": [
       "[1, 2, 3, 4, 5, 6, 7, 7, 8, 9]"
      ]
     },
     "execution_count": 90,
     "metadata": {},
     "output_type": "execute_result"
    }
   ],
   "source": [
    "l"
   ]
  },
  {
   "cell_type": "code",
   "execution_count": 89,
   "id": "a848f280-c67d-4a9e-b98a-332a79152920",
   "metadata": {},
   "outputs": [
    {
     "data": {
      "text/plain": [
       "[1, 2, 3, 4, 5, 6, 7, 7, 8, 9]"
      ]
     },
     "execution_count": 89,
     "metadata": {},
     "output_type": "execute_result"
    }
   ],
   "source": [
    "l"
   ]
  },
  {
   "cell_type": "code",
   "execution_count": 91,
   "id": "fa6598ff-a1aa-4572-9134-9a1bb7aa8d06",
   "metadata": {},
   "outputs": [],
   "source": [
    "l = [1,2,3,4,5,6,-1,-2,-3,-4,-5,0]"
   ]
  },
  {
   "cell_type": "code",
   "execution_count": 97,
   "id": "2eeca42a-37b6-46aa-8a50-427fe712b000",
   "metadata": {},
   "outputs": [],
   "source": [
    "sorted(l)\n",
    "l1 =[]"
   ]
  },
  {
   "cell_type": "code",
   "execution_count": 99,
   "id": "5eaf8ed5-d1a9-49bd-bb8a-ac1d63cd1b3c",
   "metadata": {},
   "outputs": [],
   "source": [
    "l.sort()"
   ]
  },
  {
   "cell_type": "code",
   "execution_count": 100,
   "id": "6b2ce27b-1430-4863-8e6e-0d7c3ed2f2e6",
   "metadata": {},
   "outputs": [
    {
     "data": {
      "text/plain": [
       "[-5, -4, -3, -2, -1, 0, 1, 2, 3, 4, 5, 6]"
      ]
     },
     "execution_count": 100,
     "metadata": {},
     "output_type": "execute_result"
    }
   ],
   "source": [
    "l"
   ]
  },
  {
   "cell_type": "code",
   "execution_count": 107,
   "id": "b2b134ae-939a-4916-9a99-0972c678f1dc",
   "metadata": {},
   "outputs": [],
   "source": [
    "l1 = list(filter(lambda l:l<0, l))  "
   ]
  },
  {
   "cell_type": "code",
   "execution_count": 108,
   "id": "3fa58497-05d0-446e-880b-63b9c692cc39",
   "metadata": {},
   "outputs": [
    {
     "name": "stdout",
     "output_type": "stream",
     "text": [
      "[-5, -4, -3, -2, -1]\n"
     ]
    }
   ],
   "source": [
    "print(l1)"
   ]
  },
  {
   "cell_type": "code",
   "execution_count": null,
   "id": "5d42f23d-3db0-4790-9c8d-5ac788dbc2f9",
   "metadata": {},
   "outputs": [],
   "source": []
  }
 ],
 "metadata": {
  "kernelspec": {
   "display_name": "Python 3 (ipykernel)",
   "language": "python",
   "name": "python3"
  },
  "language_info": {
   "codemirror_mode": {
    "name": "ipython",
    "version": 3
   },
   "file_extension": ".py",
   "mimetype": "text/x-python",
   "name": "python",
   "nbconvert_exporter": "python",
   "pygments_lexer": "ipython3",
   "version": "3.10.6"
  }
 },
 "nbformat": 4,
 "nbformat_minor": 5
}
